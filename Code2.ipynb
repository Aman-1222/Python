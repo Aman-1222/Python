{
 "cells": [
  {
   "cell_type": "markdown",
   "id": "b5801b55-11aa-442b-a74b-0028fe8d77e9",
   "metadata": {},
   "source": [
    "1. Explain with an example each when to use a for loop and a while loop. <br>\n",
    "    ->A for loop is used when we know the number of times we want to execute a block of code. For example, if we want to print the numbers from 1 to 10, we can use a for loop. <br>\n",
    "    ->A while loop is used when we don’t know the number of times we want to execute a block of code. For example, if we take input from the user and print the number from 1 to that number, we can use a while loop ."
   ]
  },
  {
   "cell_type": "code",
   "execution_count": 1,
   "id": "829132e0-7974-49d1-8bd2-6beda97da3af",
   "metadata": {},
   "outputs": [
    {
     "name": "stdout",
     "output_type": "stream",
     "text": [
      "1 2 3 4 5 6 7 8 9 10 "
     ]
    },
    {
     "name": "stdin",
     "output_type": "stream",
     "text": [
      " 12\n"
     ]
    },
    {
     "name": "stdout",
     "output_type": "stream",
     "text": [
      "1 2 3 4 5 6 7 8 9 10 11 12 "
     ]
    }
   ],
   "source": [
    "#for loop\n",
    "for i in range (1,11):\n",
    "    print(i,end=' ')\n",
    "#while loop\n",
    "n=int(input())\n",
    "for i in range (1,n+1):\n",
    "    print(i,end=' ')\n"
   ]
  },
  {
   "cell_type": "markdown",
   "id": "c5a72258-832f-4609-adc5-fba339415d4f",
   "metadata": {},
   "source": [
    "2. Write a python program to print the sum and product of the first 10 natural numbers using for and while loop.\n"
   ]
  },
  {
   "cell_type": "code",
   "execution_count": 2,
   "id": "e1c98723-24f9-4f81-ac49-3cd29909045c",
   "metadata": {},
   "outputs": [
    {
     "name": "stdout",
     "output_type": "stream",
     "text": [
      "55\n",
      "3628800\n",
      "55\n",
      "3628800\n"
     ]
    }
   ],
   "source": [
    "#for loop\n",
    "fsum=0\n",
    "fpro=1\n",
    "for i in range(1,11):\n",
    "    fsum+=i\n",
    "    fpro*=i\n",
    "print(fsum)\n",
    "print(fpro)\n",
    "\n",
    "#while loop\n",
    "wsum=0\n",
    "wpro=1\n",
    "n=1\n",
    "while n<=10:\n",
    "    wsum+=n\n",
    "    wpro*=n\n",
    "    n+=1\n",
    "print(wsum)\n",
    "print(wpro)\n",
    "\n",
    "    \n"
   ]
  },
  {
   "cell_type": "markdown",
   "id": "626f5f58-6144-45f3-953e-7cf4ffa4652e",
   "metadata": {},
   "source": [
    "3. Create a python program to compute the electricity bill for a household.The per-unit charges in rupees are as follows: For the first 100 units, the user will be charged Rs. 4.5 per unit, for the next 100 units, the user will be charged Rs. 6 per unit, and for the next 100 units, the user will be charged Rs. 10 per unit. After 300 units and above the user will be charged Rs. 20 per unit. <br>\n",
    "You are required to take the units of electricity consumed in a month from the user as input.\n",
    "Your program must pass this test case: when the unit of electricity consumed by the user in a month is\n",
    "310, the total electricity bill should be 2250."
   ]
  },
  {
   "cell_type": "code",
   "execution_count": 3,
   "id": "845f690e-2b69-41f7-b447-df00219f1de1",
   "metadata": {},
   "outputs": [
    {
     "name": "stdin",
     "output_type": "stream",
     "text": [
      " 310\n"
     ]
    },
    {
     "name": "stdout",
     "output_type": "stream",
     "text": [
      "Total electricity bill = 2250.0\n"
     ]
    }
   ],
   "source": [
    "n=float(input())\n",
    "amt=0\n",
    "if n<=100:\n",
    "    amt=n*4.5\n",
    "elif n<=200:\n",
    "    amt=100*4.5+(n-100)*6\n",
    "elif n<=300:\n",
    "    amt=100*4.5+100*6+(n-200)*10\n",
    "else:\n",
    "    amt=100*4.5+100*6+100*10+(n-300)*20\n",
    "print('Total electricity bill =',amt)\n",
    "    "
   ]
  },
  {
   "cell_type": "markdown",
   "id": "00cea382-48b2-4324-a0b3-c14103703d21",
   "metadata": {},
   "source": [
    "4. Create a list of numbers from 1 to 100. Use for loop and while loop to calculate the cube of each number and if the cube of that number is divisible by 4 or 5 then append that number in a list and print that list."
   ]
  },
  {
   "cell_type": "code",
   "execution_count": 6,
   "id": "e68719a7-c1ea-4369-9086-f209dfd47b14",
   "metadata": {},
   "outputs": [
    {
     "name": "stdout",
     "output_type": "stream",
     "text": [
      "[2, 4, 5, 6, 8, 10, 12, 14, 15, 16, 18, 20, 22, 24, 25, 26, 28, 30, 32, 34, 35, 36, 38, 40, 42, 44, 45, 46, 48, 50, 52, 54, 55, 56, 58, 60, 62, 64, 65, 66, 68, 70, 72, 74, 75, 76, 78, 80, 82, 84, 85, 86, 88, 90, 92, 94, 95, 96, 98, 100]\n",
      "[2, 4, 5, 6, 8, 10, 12, 14, 15, 16, 18, 20, 22, 24, 25, 26, 28, 30, 32, 34, 35, 36, 38, 40, 42, 44, 45, 46, 48, 50, 52, 54, 55, 56, 58, 60, 62, 64, 65, 66, 68, 70, 72, 74, 75, 76, 78, 80, 82, 84, 85, 86, 88, 90, 92, 94, 95, 96, 98, 100]\n"
     ]
    }
   ],
   "source": [
    "l=list(range(1,101))\n",
    "#for loop\n",
    "fl=[]\n",
    "for x in l:\n",
    "    if (x**3)%4==0 or (x**3)%5==0 :\n",
    "        fl.append(x)\n",
    "print(fl)\n",
    "\n",
    "#while loop\n",
    "wl=[]\n",
    "i=0\n",
    "while i<100 :\n",
    "    if (l[i]**3)%4==0 or (l[i]**3)%5==0 :\n",
    "        wl.append(l[i])\n",
    "    i+=1\n",
    "print(wl)\n",
    "    \n",
    "        "
   ]
  },
  {
   "cell_type": "markdown",
   "id": "c39e8cb9-7db6-495d-b24c-e799b3538b82",
   "metadata": {},
   "source": [
    "5. Write a program to filter count vowels in the below-given string. <br>\n",
    "   string = \"I want to become a data scientist\""
   ]
  },
  {
   "cell_type": "code",
   "execution_count": null,
   "id": "043a6a5e-cb6e-409d-b672-4df550cb1db0",
   "metadata": {},
   "outputs": [],
   "source": [
    "string=input()\n",
    "count=0\n",
    "for x in string:\n",
    "    if x in 'aeiouAEIOU' :\n",
    "        "
   ]
  }
 ],
 "metadata": {
  "kernelspec": {
   "display_name": "Python 3 (ipykernel)",
   "language": "python",
   "name": "python3"
  },
  "language_info": {
   "codemirror_mode": {
    "name": "ipython",
    "version": 3
   },
   "file_extension": ".py",
   "mimetype": "text/x-python",
   "name": "python",
   "nbconvert_exporter": "python",
   "pygments_lexer": "ipython3",
   "version": "3.10.8"
  }
 },
 "nbformat": 4,
 "nbformat_minor": 5
}
