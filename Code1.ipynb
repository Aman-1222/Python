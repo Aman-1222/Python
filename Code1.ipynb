{
 "cells": [
  {
   "cell_type": "markdown",
   "id": "1f37f07d-e3d3-4020-8e4c-9a5cbc45c64f",
   "metadata": {},
   "source": [
    "1. Write a program to accept percentage from the user and display the grade."
   ]
  },
  {
   "cell_type": "code",
   "execution_count": 9,
   "id": "697f4131-ef6e-40f8-94dc-8ff6a394d6d4",
   "metadata": {},
   "outputs": [
    {
     "name": "stdin",
     "output_type": "stream",
     "text": [
      " 95\n"
     ]
    },
    {
     "name": "stdout",
     "output_type": "stream",
     "text": [
      "A\n"
     ]
    }
   ],
   "source": [
    "m=int(input())\n",
    "if m>90:\n",
    "    print('A')\n",
    "elif 80<m<=90:\n",
    "    print('B')\n",
    "elif 60<=m<=80:\n",
    "    print('C')\n",
    "else:\n",
    "    print('D')"
   ]
  },
  {
   "cell_type": "markdown",
   "id": "9eb936be-5822-403d-891e-a8eb507030f3",
   "metadata": {},
   "source": [
    "2. Write a program to accept the cost price of a bike and display the road tax to be paid."
   ]
  },
  {
   "cell_type": "code",
   "execution_count": 14,
   "id": "36bfa6cf-1f08-4f2c-9429-7d648c0df575",
   "metadata": {},
   "outputs": [
    {
     "name": "stdin",
     "output_type": "stream",
     "text": [
      " 120000\n"
     ]
    },
    {
     "name": "stdout",
     "output_type": "stream",
     "text": [
      "15%\n"
     ]
    }
   ],
   "source": [
    "cp=int(input())\n",
    "if cp>100000:\n",
    "    print('15%')\n",
    "elif 50000<cp<=100000:\n",
    "    print('10%')\n",
    "else:\n",
    "    print('5%')"
   ]
  },
  {
   "cell_type": "markdown",
   "id": "b6980e02-9f1c-4f6b-a9f4-3fea8cd7bb3e",
   "metadata": {},
   "source": [
    "3. Accept any city from the user and display monuments of that city."
   ]
  },
  {
   "cell_type": "code",
   "execution_count": 20,
   "id": "2b14b942-6b99-4ab0-84e0-37e5e38e81c4",
   "metadata": {},
   "outputs": [
    {
     "name": "stdin",
     "output_type": "stream",
     "text": [
      " Delhi\n"
     ]
    },
    {
     "name": "stdout",
     "output_type": "stream",
     "text": [
      "Red Fort\n"
     ]
    }
   ],
   "source": [
    "c=input()\n",
    "if c=='Delhi':\n",
    "    print('Red Fort')\n",
    "elif c=='Agra':\n",
    "    print('Taj Mahal')\n",
    "elif c=='Jaipur':\n",
    "    print('Jal Mahal')"
   ]
  },
  {
   "cell_type": "markdown",
   "id": "676351af-0fc8-453d-8d22-b67837b00922",
   "metadata": {},
   "source": [
    "4. Check how many times a given number can be divided by 3 before it is less than or equal to 10. "
   ]
  },
  {
   "cell_type": "code",
   "execution_count": 24,
   "id": "1838891e-ec54-4f24-a47a-25adf78d2304",
   "metadata": {},
   "outputs": [
    {
     "name": "stdin",
     "output_type": "stream",
     "text": [
      " 33\n"
     ]
    },
    {
     "name": "stdout",
     "output_type": "stream",
     "text": [
      "2\n"
     ]
    }
   ],
   "source": [
    "n=int(input())\n",
    "count=0\n",
    "while n>10:\n",
    "    n=n//3\n",
    "    count+=1\n",
    "print(count)\n",
    "    "
   ]
  },
  {
   "cell_type": "markdown",
   "id": "40d6780e-d37c-4678-8e0f-66f7c9397efe",
   "metadata": {
    "tags": []
   },
   "source": [
    "5. Why and When to Use while Loop in Python give a detailed description with example. <br>\n",
    "-> A while loop is used to repeat a block of code till a condition is fulfilled. While loops are useful when you don’t know how many times you want a block of code to execute beforehand."
   ]
  },
  {
   "cell_type": "code",
   "execution_count": 26,
   "id": "4df85e8a-da46-46f9-af02-75447743dd96",
   "metadata": {},
   "outputs": [
    {
     "name": "stdin",
     "output_type": "stream",
     "text": [
      " 5\n"
     ]
    },
    {
     "name": "stdout",
     "output_type": "stream",
     "text": [
      "1\n",
      "2\n",
      "3\n",
      "4\n",
      "5\n"
     ]
    }
   ],
   "source": [
    "n=int(input())\n",
    "i=1\n",
    "while i<=n:\n",
    "    print(i)\n",
    "    i+=1"
   ]
  },
  {
   "cell_type": "markdown",
   "id": "f0a362c4-3925-42bc-80e4-216e83128cdd",
   "metadata": {},
   "source": [
    "6. Use nested while loop to print 3 different pattern. "
   ]
  },
  {
   "cell_type": "code",
   "execution_count": 28,
   "id": "4ea181d1-80e7-4028-99c0-6041baa1b3c4",
   "metadata": {},
   "outputs": [
    {
     "name": "stdout",
     "output_type": "stream",
     "text": [
      "* \n",
      "* * \n",
      "* * * \n"
     ]
    }
   ],
   "source": [
    "i=1\n",
    "while i<=3:\n",
    "    j=1\n",
    "    while j<=i:\n",
    "        print('*',end=' ')\n",
    "        j+=1\n",
    "    print()    \n",
    "    i+=1    \n",
    "            \n",
    "        "
   ]
  },
  {
   "cell_type": "markdown",
   "id": "5bd04b5f-630d-4368-9522-4f10b9f7b25e",
   "metadata": {},
   "source": [
    "7. Reverse a while loop to display numbers from 10 to 1. "
   ]
  },
  {
   "cell_type": "code",
   "execution_count": 29,
   "id": "cbeb0462-68be-4fc9-90ff-b8358f741b04",
   "metadata": {},
   "outputs": [
    {
     "name": "stdout",
     "output_type": "stream",
     "text": [
      "10\n",
      "9\n",
      "8\n",
      "7\n",
      "6\n",
      "5\n",
      "4\n",
      "3\n",
      "2\n",
      "1\n"
     ]
    }
   ],
   "source": [
    "i=10\n",
    "while i>0:\n",
    "    print(i)\n",
    "    i-=1"
   ]
  },
  {
   "cell_type": "code",
   "execution_count": null,
   "id": "16cee828-01c0-444e-8ab9-80df963c8d19",
   "metadata": {},
   "outputs": [],
   "source": []
  }
 ],
 "metadata": {
  "kernelspec": {
   "display_name": "Python 3 (ipykernel)",
   "language": "python",
   "name": "python3"
  },
  "language_info": {
   "codemirror_mode": {
    "name": "ipython",
    "version": 3
   },
   "file_extension": ".py",
   "mimetype": "text/x-python",
   "name": "python",
   "nbconvert_exporter": "python",
   "pygments_lexer": "ipython3",
   "version": "3.10.8"
  }
 },
 "nbformat": 4,
 "nbformat_minor": 5
}
