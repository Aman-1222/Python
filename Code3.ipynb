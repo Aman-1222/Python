{
 "cells": [
  {
   "cell_type": "markdown",
   "id": "6c34cd55-a477-435b-900a-6271e0f7ac6d",
   "metadata": {},
   "source": [
    "1. Which keyword is used to create a function? Create a function to return a list of odd numbers in the range of 1 to 25."
   ]
  },
  {
   "cell_type": "markdown",
   "id": "a5f94f74-d9c5-4f9d-a4ae-21bafb501e72",
   "metadata": {},
   "source": [
    "    -> The keyword used to create a function is def or function. "
   ]
  },
  {
   "cell_type": "code",
   "execution_count": 1,
   "id": "be2d0ead-c7e0-4465-9313-0d4d355b1e2a",
   "metadata": {},
   "outputs": [
    {
     "name": "stdout",
     "output_type": "stream",
     "text": [
      "1,2,3,4,5,6,7,8,9,10,11,12,13,14,15,16,17,18,19,20,21,22,23,24,25\n"
     ]
    }
   ],
   "source": [
    "def odd():\n",
    "    for i in range(1,25):        \n",
    "        print(i,end=',')\n",
    "    print(25)\n",
    "odd()"
   ]
  },
  {
   "cell_type": "markdown",
   "id": "db181c00-6f8c-4531-bee8-e1d437cb084a",
   "metadata": {},
   "source": [
    "2. Why *args and **kwargs is used in some functions? Create a function each for *args and **kwargs to demonstrate their use."
   ]
  },
  {
   "cell_type": "markdown",
   "id": "8f699f8a-9b03-4a1b-9a6f-4ad8caaaac52",
   "metadata": {},
   "source": [
    "    -> *args and **kwargs are special syntax in Python for passing a variable number of arguments to a function. *args is used to send a non-keyworded variable-length argument list to the function. **kwargs allows you to pass keyworded variable-length arguments to a function."
   ]
  },
  {
   "cell_type": "code",
   "execution_count": 2,
   "id": "3aee035f-c4dd-49e0-87ab-000c08044ad1",
   "metadata": {},
   "outputs": [
    {
     "name": "stdout",
     "output_type": "stream",
     "text": [
      "Hello\n",
      "Welcome\n",
      "to\n",
      "Python\n",
      "first==Hello\n",
      "mid==Welcome\n",
      "last==to Python\n"
     ]
    }
   ],
   "source": [
    "def myFun(*args):\n",
    "    for arg in args:\n",
    "        print(arg)\n",
    "\n",
    "myFun('Hello', 'Welcome', 'to', 'Python')\n",
    "\n",
    "def myFun(**kwargs):\n",
    "    for key, value in kwargs.items():\n",
    "        print(f'{key}=={value}')\n",
    "\n",
    "myFun(first='Hello', mid='Welcome', last='to Python')\n",
    "\n"
   ]
  },
  {
   "cell_type": "markdown",
   "id": "f8e201f2-2d21-4085-8893-4bd02d1a6a4f",
   "metadata": {},
   "source": [
    "3. What is an iterator in python? Name the method used to initialise the iterator object and the method used for iteration. Use these methods to print the first five elements of the given list [2, 4, 6, 8, 10, 12, 14,16, 18, 20]."
   ]
  },
  {
   "cell_type": "markdown",
   "id": "07281c35-ade0-440b-9826-1e91c581fe6c",
   "metadata": {},
   "source": [
    "    -> An iterator in Python is an object that can be iterated (looped) upon. An object which will return data, one element at a time. The two methods used by an iterator are __iter__ and __next__. The __iter__ method returns the iterator object itself and is required to be defined for an object to be iterable. The __next__ method returns the next value from the iterator and must raise a StopIteration exception when there are no more items to return."
   ]
  },
  {
   "cell_type": "code",
   "execution_count": 3,
   "id": "6d36fe6c-36dd-4d45-acc9-05a6271bd295",
   "metadata": {},
   "outputs": [
    {
     "name": "stdout",
     "output_type": "stream",
     "text": [
      "2 4 6 8 10 "
     ]
    }
   ],
   "source": [
    "l=[2,4,6,8,10,12,14,16,18,20]\n",
    "it=iter(l)\n",
    "for i in range (5):\n",
    "    print(next(it),end=' ')   "
   ]
  },
  {
   "cell_type": "markdown",
   "id": "4d6465b2-0401-429e-81a5-c5f5e65ab6ce",
   "metadata": {},
   "source": [
    "4. What is a generator function in python? Why yield keyword is used? Give an example of a generator\n",
    "function."
   ]
  },
  {
   "cell_type": "markdown",
   "id": "b319eade-f6d9-4f83-85f2-d243a9ea3568",
   "metadata": {},
   "source": [
    "    -> A generator function in Python is a function that returns an iterator. It looks like a normal function except that it contains yield expressions for producing a series of values usable in a for-loop or that can be retrieved one at a time with the next() function. The yield keyword is used because when the generator function is called, it returns an iterator but does not start execution immediately. Instead, the function only executes when the next() method is called on the iterator."
   ]
  },
  {
   "cell_type": "code",
   "execution_count": 4,
   "id": "d33bc4c0-d48d-4857-b5ce-22b41933a344",
   "metadata": {},
   "outputs": [
    {
     "name": "stdout",
     "output_type": "stream",
     "text": [
      "0\n",
      "1\n",
      "1\n",
      "2\n",
      "3\n"
     ]
    }
   ],
   "source": [
    "def fibonacci(n):\n",
    "    a, b = 0, 1\n",
    "    for _ in range(n):\n",
    "        yield a\n",
    "        a, b = b, a + b\n",
    "\n",
    "for i in fibonacci(5):\n",
    "    print(i)\n"
   ]
  },
  {
   "cell_type": "markdown",
   "id": "b5fffd0b-5e73-433c-b5d3-4b86008ad71e",
   "metadata": {},
   "source": [
    "5. Create a generator function for prime numbers less than 1000. Use the next() method to print the\n",
    "first 20 prime numbers."
   ]
  },
  {
   "cell_type": "code",
   "execution_count": 5,
   "id": "0b6be264-c622-4c61-a7b9-fdf118546424",
   "metadata": {},
   "outputs": [
    {
     "name": "stdout",
     "output_type": "stream",
     "text": [
      "2 3 5 7 11 13 17 19 23 29 31 37 41 43 47 53 59 61 67 71 "
     ]
    }
   ],
   "source": [
    "def prime(n):\n",
    "     for num in range(2, n):\n",
    "        for i in range(2, num):\n",
    "            if (num % i) == 0:\n",
    "                break\n",
    "        else:\n",
    "            yield num\n",
    "it=prime(1000)\n",
    "for i in range(20):\n",
    "    print(next(it),end=' ')\n"
   ]
  },
  {
   "cell_type": "markdown",
   "id": "00453410-581d-4d23-8741-c086df5a8f8e",
   "metadata": {},
   "source": [
    "6. Write a python program to print the first 10 Fibonacci numbers using a while loop."
   ]
  },
  {
   "cell_type": "code",
   "execution_count": 6,
   "id": "5eb2baf9-8c8f-4c55-9f69-949d150627fc",
   "metadata": {},
   "outputs": [
    {
     "name": "stdout",
     "output_type": "stream",
     "text": [
      "0 1 1 2 3 5 8 13 21 34 "
     ]
    }
   ],
   "source": [
    "a,b=0,1\n",
    "i=1\n",
    "while i!=11 :\n",
    "    print (a,end=' ')\n",
    "    a,b=b,a+b\n",
    "    i+=1    "
   ]
  },
  {
   "cell_type": "markdown",
   "id": "da388faf-7466-4d0d-bcac-67cedebfa3b8",
   "metadata": {},
   "source": [
    "7. Write a List Comprehension to iterate through the given string: ‘pwskills’.\n",
    "Expected output: ['p', 'w', 's', 'k', 'i', 'l', 'l', 's']"
   ]
  },
  {
   "cell_type": "code",
   "execution_count": 7,
   "id": "feb09a31-5bad-4870-a6df-39b6ca0d7d9a",
   "metadata": {},
   "outputs": [
    {
     "name": "stdout",
     "output_type": "stream",
     "text": [
      "['p', 'w', 's', 'k', 'i', 'l', 'l', 's']\n"
     ]
    }
   ],
   "source": [
    "l=[i for i in 'pwskills']\n",
    "print(l)"
   ]
  },
  {
   "cell_type": "markdown",
   "id": "52790834-47e2-4ad4-8fad-8da7985be9fe",
   "metadata": {},
   "source": [
    "8. Write a python program to check whether a given number is Palindrome or not using a while loop."
   ]
  },
  {
   "cell_type": "code",
   "execution_count": 8,
   "id": "b9cd2e1b-48f5-4565-9d09-87b2c54828e6",
   "metadata": {},
   "outputs": [
    {
     "name": "stdin",
     "output_type": "stream",
     "text": [
      " 12221\n"
     ]
    },
    {
     "name": "stdout",
     "output_type": "stream",
     "text": [
      "Palindrome\n"
     ]
    }
   ],
   "source": [
    "n=int(input())\n",
    "dn=n\n",
    "ans=0\n",
    "while n>0:\n",
    "    dig=n%10\n",
    "    ans=ans*10+dig\n",
    "    n//=10\n",
    "if ans==dn:\n",
    "    print('Palindrome')\n",
    "else:\n",
    "    print('Not Palindrome')"
   ]
  },
  {
   "cell_type": "markdown",
   "id": "a3cff9ea-f7d1-4893-ba9b-f54cc1184ce9",
   "metadata": {},
   "source": [
    "9. Write a code to print odd numbers from 1 to 100 using list comprehension.\n",
    "Note: Use a list comprehension to create a list from 1 to 100 and use another List comprehension to filter\n",
    "out odd numbers."
   ]
  },
  {
   "cell_type": "code",
   "execution_count": 15,
   "id": "3e07e9bd-271e-4204-ae52-ce0f2fc7b759",
   "metadata": {},
   "outputs": [
    {
     "name": "stdout",
     "output_type": "stream",
     "text": [
      "1 3 5 7 9 11 13 15 17 19 21 23 25 27 29 31 33 35 37 39 41 43 45 47 49 51 53 55 57 59 61 63 65 67 69 71 73 75 77 79 81 83 85 87 89 91 93 95 97 99 "
     ]
    }
   ],
   "source": [
    "l=[i for i in range(1,101)]\n",
    "ans=list(filter(lambda x:x%2!=0,l))\n",
    "for num in ans:\n",
    "    print(num,end=' ')"
   ]
  },
  {
   "cell_type": "code",
   "execution_count": null,
   "id": "35cf497b-0b39-4e77-856e-9bff57fc63a9",
   "metadata": {},
   "outputs": [],
   "source": []
  }
 ],
 "metadata": {
  "kernelspec": {
   "display_name": "Python 3 (ipykernel)",
   "language": "python",
   "name": "python3"
  },
  "language_info": {
   "codemirror_mode": {
    "name": "ipython",
    "version": 3
   },
   "file_extension": ".py",
   "mimetype": "text/x-python",
   "name": "python",
   "nbconvert_exporter": "python",
   "pygments_lexer": "ipython3",
   "version": "3.10.8"
  }
 },
 "nbformat": 4,
 "nbformat_minor": 5
}
