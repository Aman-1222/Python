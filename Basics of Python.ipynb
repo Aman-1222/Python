{
 "cells": [
  {
   "cell_type": "markdown",
   "id": "a2b4e0f3-3443-42f2-9cee-0c01cc98a5a5",
   "metadata": {},
   "source": [
    "1. Who developed Python Programming Language?  <br>\n",
    "   -> Python was created by Guido van Rossum.\n",
    "2. Which type of Programming does Python support? <br>\n",
    "   -> Python supports multiple programming paradigms, including structured (particularly procedural), object-oriented and functional               programming.\n",
    "3. Is Python case sensitve when dealing with identifiers? <br>\n",
    "   -> Yes, Python is case sensitive when dealing with identifiers.\n",
    "4. What is the correct extension of the Python file? <br>\n",
    "   -> The correct extension of the Python file is .py.\n",
    "5. Is Python code compiled or interpreted? <br>\n",
    "   -> Python code is interpreted, not compiled. When you run a Python program, the interpreter reads the code line by line and executes it         in real-time.\n",
    "6. Name a few blocks of code used to define in Python Language? <br>\n",
    "   -> In Python, there are several blocks of code used to define a program’s logic. These include if, else, elif, while, for, and try\n",
    "      blocks.\n",
    "7. State a character used to give single-line comments in Python? <br>\n",
    "   -> In Python, the character used to give single-line comments is the hash symbol (#).\n",
    "8. Mention functions which can help us to find the version of python that we are currently working on? <br>\n",
    "   ->In Python, we can use the sys module to find the version of Python that we are currently working on. We can use the sys.version     \n",
    "     attribute to get the version number as a string, and sys.version_info to get the version number as a tuple.\n",
    "9. Python supports the creation of anonymous functions at runtime, using a construct called ____. <br>\n",
    "   -> lambda\n",
    "10. What does pip stand for python? <br>\n",
    "   -> In Python, pip is a package manager for Python packages. It stands for “Python Package Index”. It is used to install, update, and  \n",
    "      remove Python packages.\n",
    "11. Mention a few built-in functions in python? <br>\n",
    "   -> Python has several built-in functions that are always available. Some of the most commonly used built-in functions include print(),\n",
    "      len(), input(), int(), float(), str(), and range().\n",
    "12. What is the maximum possible length of an identifier in Python? <br>\n",
    "   -> In Python, the maximum possible length of an identifier is not specified. However, PEP 8 recommends that identifiers be kept under 79\n",
    "      characters.\n",
    "13. What are the benefits of using Python? <br>\n",
    "   -> Python is a popular programming language that has many benefits. Some of the benefits of using Python include its simplicity, \n",
    "   readability, and ease of use. Python is also an interpreted language, which means that it does not need to be compiled before it can be\n",
    "   run. This makes it easy to write and test code quickly. Additionally, Python has a large standard library that includes many useful \n",
    "   modules and functions.\n",
    "14. How is memory managed in Python? <br>\n",
    "   -> Memory management in Python involves a private heap containing all Python objects and data structures. The management of this private\n",
    "      heap is ensured internally by the Python memory manager. \n",
    "15. How to install Python on Windows and set path variables? <br>\n",
    "   -> Here are the steps to install Python on Windows and set path variables:\n",
    "\n",
    "      1.Download Python from https://www.python.org/downloads/windows/ <br>\n",
    "      2.Install Python on your PC <br>\n",
    "      3.Look for the location where Python has been installed on your PC using the following command on your command prompt: cmd python <br>\n",
    "      4.Go to advanced system settings and add new variable and name it as PYTHON_NAME and paste the copied path. <br>\n",
    "      5.Alternatively, you can add Python to Windows path by downloading a recent version of Python, and then checking the box to Add Python\n",
    "        to PATH at the bottom of the setup screen. Finish the installation, and you should be good to go.\n",
    "16. Is indentation required in python? <br>\n",
    "   -> Yes, indentation is required in Python."
   ]
  },
  {
   "cell_type": "code",
   "execution_count": null,
   "id": "3c436fdd-6626-466a-80ab-4a58e1683514",
   "metadata": {},
   "outputs": [],
   "source": []
  }
 ],
 "metadata": {
  "kernelspec": {
   "display_name": "Python 3 (ipykernel)",
   "language": "python",
   "name": "python3"
  },
  "language_info": {
   "codemirror_mode": {
    "name": "ipython",
    "version": 3
   },
   "file_extension": ".py",
   "mimetype": "text/x-python",
   "name": "python",
   "nbconvert_exporter": "python",
   "pygments_lexer": "ipython3",
   "version": "3.10.8"
  }
 },
 "nbformat": 4,
 "nbformat_minor": 5
}
